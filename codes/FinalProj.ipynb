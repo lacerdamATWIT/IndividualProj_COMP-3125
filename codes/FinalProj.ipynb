{
 "cells": [
  {
   "cell_type": "code",
   "execution_count": 1,
   "metadata": {},
   "outputs": [],
   "source": [
    "import numpy as np\n",
    "import pandas as pd\n",
    "import matplotlib as mpl\n",
    "import matplotlib.pyplot as plt\n",
    "import seaborn as sea"
   ]
  },
  {
   "cell_type": "code",
   "execution_count": 35,
   "metadata": {},
   "outputs": [],
   "source": [
    "import sklearn"
   ]
  },
  {
   "cell_type": "code",
   "execution_count": 49,
   "metadata": {},
   "outputs": [],
   "source": [
    "from sklearn.model_selection import train_test_split\n",
    "from sklearn.linear_model import LinearRegression\n",
    "from sklearn.metrics import mean_squared_error, r2_score"
   ]
  },
  {
   "cell_type": "code",
   "execution_count": 2,
   "metadata": {},
   "outputs": [],
   "source": [
    "df=pd.read_csv('best-selling-manga.csv')"
   ]
  },
  {
   "cell_type": "code",
   "execution_count": 3,
   "metadata": {},
   "outputs": [
    {
     "data": {
      "text/html": [
       "<div>\n",
       "<style scoped>\n",
       "    .dataframe tbody tr th:only-of-type {\n",
       "        vertical-align: middle;\n",
       "    }\n",
       "\n",
       "    .dataframe tbody tr th {\n",
       "        vertical-align: top;\n",
       "    }\n",
       "\n",
       "    .dataframe thead th {\n",
       "        text-align: right;\n",
       "    }\n",
       "</style>\n",
       "<table border=\"1\" class=\"dataframe\">\n",
       "  <thead>\n",
       "    <tr style=\"text-align: right;\">\n",
       "      <th></th>\n",
       "      <th>Manga series</th>\n",
       "      <th>Author(s)</th>\n",
       "      <th>Publisher</th>\n",
       "      <th>Demographic</th>\n",
       "      <th>No. of collected volumes</th>\n",
       "      <th>Serialized</th>\n",
       "      <th>Approximate sales in million(s)</th>\n",
       "      <th>Average sales per volume in million(s)</th>\n",
       "    </tr>\n",
       "  </thead>\n",
       "  <tbody>\n",
       "    <tr>\n",
       "      <th>0</th>\n",
       "      <td>One Piece</td>\n",
       "      <td>Eiichiro Oda</td>\n",
       "      <td>Shueisha</td>\n",
       "      <td>Shōnen</td>\n",
       "      <td>104</td>\n",
       "      <td>1997–present</td>\n",
       "      <td>516.6</td>\n",
       "      <td>4.97</td>\n",
       "    </tr>\n",
       "    <tr>\n",
       "      <th>1</th>\n",
       "      <td>Golgo 13</td>\n",
       "      <td>Takao Saito, Saito Production</td>\n",
       "      <td>Shogakukan</td>\n",
       "      <td>Seinen</td>\n",
       "      <td>207</td>\n",
       "      <td>1968–present</td>\n",
       "      <td>300.0</td>\n",
       "      <td>1.45</td>\n",
       "    </tr>\n",
       "    <tr>\n",
       "      <th>2</th>\n",
       "      <td>Case Closed / Detective Conan</td>\n",
       "      <td>Gosho Aoyama</td>\n",
       "      <td>Shogakukan</td>\n",
       "      <td>Shōnen</td>\n",
       "      <td>102</td>\n",
       "      <td>1994–present</td>\n",
       "      <td>270.0</td>\n",
       "      <td>2.65</td>\n",
       "    </tr>\n",
       "    <tr>\n",
       "      <th>3</th>\n",
       "      <td>Dragon Ball</td>\n",
       "      <td>Akira Toriyama</td>\n",
       "      <td>Shueisha</td>\n",
       "      <td>Shōnen</td>\n",
       "      <td>42</td>\n",
       "      <td>1984–1995</td>\n",
       "      <td>260.0</td>\n",
       "      <td>6.19</td>\n",
       "    </tr>\n",
       "    <tr>\n",
       "      <th>4</th>\n",
       "      <td>Doraemon</td>\n",
       "      <td>Fujiko F. Fujio</td>\n",
       "      <td>Shogakukan</td>\n",
       "      <td>Children</td>\n",
       "      <td>45</td>\n",
       "      <td>1969–1996</td>\n",
       "      <td>250.0</td>\n",
       "      <td>4.71</td>\n",
       "    </tr>\n",
       "  </tbody>\n",
       "</table>\n",
       "</div>"
      ],
      "text/plain": [
       "                    Manga series                      Author(s)   Publisher  \\\n",
       "0                      One Piece                   Eiichiro Oda    Shueisha   \n",
       "1                       Golgo 13  Takao Saito, Saito Production  Shogakukan   \n",
       "2  Case Closed / Detective Conan                   Gosho Aoyama  Shogakukan   \n",
       "3                    Dragon Ball                 Akira Toriyama    Shueisha   \n",
       "4                       Doraemon                Fujiko F. Fujio  Shogakukan   \n",
       "\n",
       "  Demographic  No. of collected volumes    Serialized  \\\n",
       "0      Shōnen                       104  1997–present   \n",
       "1      Seinen                       207  1968–present   \n",
       "2      Shōnen                       102  1994–present   \n",
       "3      Shōnen                        42     1984–1995   \n",
       "4    Children                        45     1969–1996   \n",
       "\n",
       "   Approximate sales in million(s)  Average sales per volume in million(s)  \n",
       "0                            516.6                                    4.97  \n",
       "1                            300.0                                    1.45  \n",
       "2                            270.0                                    2.65  \n",
       "3                            260.0                                    6.19  \n",
       "4                            250.0                                    4.71  "
      ]
     },
     "execution_count": 3,
     "metadata": {},
     "output_type": "execute_result"
    }
   ],
   "source": [
    "df.head(5)"
   ]
  },
  {
   "cell_type": "code",
   "execution_count": 4,
   "metadata": {},
   "outputs": [
    {
     "data": {
      "text/plain": [
       "Manga series                              0\n",
       "Author(s)                                 0\n",
       "Publisher                                 0\n",
       "Demographic                               0\n",
       "No. of collected volumes                  0\n",
       "Serialized                                0\n",
       "Approximate sales in million(s)           0\n",
       "Average sales per volume in million(s)    0\n",
       "dtype: int64"
      ]
     },
     "execution_count": 4,
     "metadata": {},
     "output_type": "execute_result"
    }
   ],
   "source": [
    "df.isnull().sum()"
   ]
  },
  {
   "cell_type": "code",
   "execution_count": null,
   "metadata": {},
   "outputs": [],
   "source": [
    "#no missing values, an issue that I experienced in the group project so this time I wanted a dataset that would be easier to manage nas"
   ]
  },
  {
   "cell_type": "code",
   "execution_count": 5,
   "metadata": {},
   "outputs": [],
   "source": [
    "#Since the serialized collumn is not functional as it stands now, I will create 3 new collumns based out of it and then delete the collumn."
   ]
  },
  {
   "cell_type": "code",
   "execution_count": 6,
   "metadata": {},
   "outputs": [],
   "source": [
    "def newcols(Serialized):\n",
    "    if 'present' in Serialized:\n",
    "        return 'Ongoing'\n",
    "    elif 'on hiatus' in Serialized:\n",
    "        return 'On Hiatus'\n",
    "    else:\n",
    "        return 'Finalized'\n",
    "    \n",
    "df['Status'] = df['Serialized'].apply(newcols)\n",
    "df['Status'] = pd.Categorical(df['Status'], categories=['Ongoing', 'On Hiatus', 'Finalized'], ordered=True)"
   ]
  },
  {
   "cell_type": "code",
   "execution_count": 7,
   "metadata": {},
   "outputs": [
    {
     "data": {
      "text/html": [
       "<div>\n",
       "<style scoped>\n",
       "    .dataframe tbody tr th:only-of-type {\n",
       "        vertical-align: middle;\n",
       "    }\n",
       "\n",
       "    .dataframe tbody tr th {\n",
       "        vertical-align: top;\n",
       "    }\n",
       "\n",
       "    .dataframe thead th {\n",
       "        text-align: right;\n",
       "    }\n",
       "</style>\n",
       "<table border=\"1\" class=\"dataframe\">\n",
       "  <thead>\n",
       "    <tr style=\"text-align: right;\">\n",
       "      <th></th>\n",
       "      <th>Manga series</th>\n",
       "      <th>Author(s)</th>\n",
       "      <th>Publisher</th>\n",
       "      <th>Demographic</th>\n",
       "      <th>No. of collected volumes</th>\n",
       "      <th>Serialized</th>\n",
       "      <th>Approximate sales in million(s)</th>\n",
       "      <th>Average sales per volume in million(s)</th>\n",
       "      <th>Status</th>\n",
       "    </tr>\n",
       "  </thead>\n",
       "  <tbody>\n",
       "    <tr>\n",
       "      <th>0</th>\n",
       "      <td>One Piece</td>\n",
       "      <td>Eiichiro Oda</td>\n",
       "      <td>Shueisha</td>\n",
       "      <td>Shōnen</td>\n",
       "      <td>104</td>\n",
       "      <td>1997–present</td>\n",
       "      <td>516.6</td>\n",
       "      <td>4.97</td>\n",
       "      <td>Ongoing</td>\n",
       "    </tr>\n",
       "    <tr>\n",
       "      <th>1</th>\n",
       "      <td>Golgo 13</td>\n",
       "      <td>Takao Saito, Saito Production</td>\n",
       "      <td>Shogakukan</td>\n",
       "      <td>Seinen</td>\n",
       "      <td>207</td>\n",
       "      <td>1968–present</td>\n",
       "      <td>300.0</td>\n",
       "      <td>1.45</td>\n",
       "      <td>Ongoing</td>\n",
       "    </tr>\n",
       "    <tr>\n",
       "      <th>2</th>\n",
       "      <td>Case Closed / Detective Conan</td>\n",
       "      <td>Gosho Aoyama</td>\n",
       "      <td>Shogakukan</td>\n",
       "      <td>Shōnen</td>\n",
       "      <td>102</td>\n",
       "      <td>1994–present</td>\n",
       "      <td>270.0</td>\n",
       "      <td>2.65</td>\n",
       "      <td>Ongoing</td>\n",
       "    </tr>\n",
       "    <tr>\n",
       "      <th>3</th>\n",
       "      <td>Dragon Ball</td>\n",
       "      <td>Akira Toriyama</td>\n",
       "      <td>Shueisha</td>\n",
       "      <td>Shōnen</td>\n",
       "      <td>42</td>\n",
       "      <td>1984–1995</td>\n",
       "      <td>260.0</td>\n",
       "      <td>6.19</td>\n",
       "      <td>Finalized</td>\n",
       "    </tr>\n",
       "    <tr>\n",
       "      <th>4</th>\n",
       "      <td>Doraemon</td>\n",
       "      <td>Fujiko F. Fujio</td>\n",
       "      <td>Shogakukan</td>\n",
       "      <td>Children</td>\n",
       "      <td>45</td>\n",
       "      <td>1969–1996</td>\n",
       "      <td>250.0</td>\n",
       "      <td>4.71</td>\n",
       "      <td>Finalized</td>\n",
       "    </tr>\n",
       "  </tbody>\n",
       "</table>\n",
       "</div>"
      ],
      "text/plain": [
       "                    Manga series                      Author(s)   Publisher  \\\n",
       "0                      One Piece                   Eiichiro Oda    Shueisha   \n",
       "1                       Golgo 13  Takao Saito, Saito Production  Shogakukan   \n",
       "2  Case Closed / Detective Conan                   Gosho Aoyama  Shogakukan   \n",
       "3                    Dragon Ball                 Akira Toriyama    Shueisha   \n",
       "4                       Doraemon                Fujiko F. Fujio  Shogakukan   \n",
       "\n",
       "  Demographic  No. of collected volumes    Serialized  \\\n",
       "0      Shōnen                       104  1997–present   \n",
       "1      Seinen                       207  1968–present   \n",
       "2      Shōnen                       102  1994–present   \n",
       "3      Shōnen                        42     1984–1995   \n",
       "4    Children                        45     1969–1996   \n",
       "\n",
       "   Approximate sales in million(s)  Average sales per volume in million(s)  \\\n",
       "0                            516.6                                    4.97   \n",
       "1                            300.0                                    1.45   \n",
       "2                            270.0                                    2.65   \n",
       "3                            260.0                                    6.19   \n",
       "4                            250.0                                    4.71   \n",
       "\n",
       "      Status  \n",
       "0    Ongoing  \n",
       "1    Ongoing  \n",
       "2    Ongoing  \n",
       "3  Finalized  \n",
       "4  Finalized  "
      ]
     },
     "execution_count": 7,
     "metadata": {},
     "output_type": "execute_result"
    }
   ],
   "source": [
    "df.head(5)"
   ]
  },
  {
   "cell_type": "code",
   "execution_count": 8,
   "metadata": {},
   "outputs": [],
   "source": [
    "df['Ongoing'] = df['Status'] == 'Ongoing'\n",
    "df['OnHiatus'] = df['Status'] == 'On Hiatus'\n",
    "df['Finalized'] = df['Status'] == 'Finalized'"
   ]
  },
  {
   "cell_type": "code",
   "execution_count": 9,
   "metadata": {},
   "outputs": [
    {
     "data": {
      "text/html": [
       "<div>\n",
       "<style scoped>\n",
       "    .dataframe tbody tr th:only-of-type {\n",
       "        vertical-align: middle;\n",
       "    }\n",
       "\n",
       "    .dataframe tbody tr th {\n",
       "        vertical-align: top;\n",
       "    }\n",
       "\n",
       "    .dataframe thead th {\n",
       "        text-align: right;\n",
       "    }\n",
       "</style>\n",
       "<table border=\"1\" class=\"dataframe\">\n",
       "  <thead>\n",
       "    <tr style=\"text-align: right;\">\n",
       "      <th></th>\n",
       "      <th>Manga series</th>\n",
       "      <th>Author(s)</th>\n",
       "      <th>Publisher</th>\n",
       "      <th>Demographic</th>\n",
       "      <th>No. of collected volumes</th>\n",
       "      <th>Serialized</th>\n",
       "      <th>Approximate sales in million(s)</th>\n",
       "      <th>Average sales per volume in million(s)</th>\n",
       "      <th>Status</th>\n",
       "      <th>Ongoing</th>\n",
       "      <th>OnHiatus</th>\n",
       "      <th>Finalized</th>\n",
       "    </tr>\n",
       "  </thead>\n",
       "  <tbody>\n",
       "    <tr>\n",
       "      <th>0</th>\n",
       "      <td>One Piece</td>\n",
       "      <td>Eiichiro Oda</td>\n",
       "      <td>Shueisha</td>\n",
       "      <td>Shōnen</td>\n",
       "      <td>104</td>\n",
       "      <td>1997–present</td>\n",
       "      <td>516.6</td>\n",
       "      <td>4.97</td>\n",
       "      <td>Ongoing</td>\n",
       "      <td>True</td>\n",
       "      <td>False</td>\n",
       "      <td>False</td>\n",
       "    </tr>\n",
       "    <tr>\n",
       "      <th>1</th>\n",
       "      <td>Golgo 13</td>\n",
       "      <td>Takao Saito, Saito Production</td>\n",
       "      <td>Shogakukan</td>\n",
       "      <td>Seinen</td>\n",
       "      <td>207</td>\n",
       "      <td>1968–present</td>\n",
       "      <td>300.0</td>\n",
       "      <td>1.45</td>\n",
       "      <td>Ongoing</td>\n",
       "      <td>True</td>\n",
       "      <td>False</td>\n",
       "      <td>False</td>\n",
       "    </tr>\n",
       "    <tr>\n",
       "      <th>2</th>\n",
       "      <td>Case Closed / Detective Conan</td>\n",
       "      <td>Gosho Aoyama</td>\n",
       "      <td>Shogakukan</td>\n",
       "      <td>Shōnen</td>\n",
       "      <td>102</td>\n",
       "      <td>1994–present</td>\n",
       "      <td>270.0</td>\n",
       "      <td>2.65</td>\n",
       "      <td>Ongoing</td>\n",
       "      <td>True</td>\n",
       "      <td>False</td>\n",
       "      <td>False</td>\n",
       "    </tr>\n",
       "    <tr>\n",
       "      <th>3</th>\n",
       "      <td>Dragon Ball</td>\n",
       "      <td>Akira Toriyama</td>\n",
       "      <td>Shueisha</td>\n",
       "      <td>Shōnen</td>\n",
       "      <td>42</td>\n",
       "      <td>1984–1995</td>\n",
       "      <td>260.0</td>\n",
       "      <td>6.19</td>\n",
       "      <td>Finalized</td>\n",
       "      <td>False</td>\n",
       "      <td>False</td>\n",
       "      <td>True</td>\n",
       "    </tr>\n",
       "    <tr>\n",
       "      <th>4</th>\n",
       "      <td>Doraemon</td>\n",
       "      <td>Fujiko F. Fujio</td>\n",
       "      <td>Shogakukan</td>\n",
       "      <td>Children</td>\n",
       "      <td>45</td>\n",
       "      <td>1969–1996</td>\n",
       "      <td>250.0</td>\n",
       "      <td>4.71</td>\n",
       "      <td>Finalized</td>\n",
       "      <td>False</td>\n",
       "      <td>False</td>\n",
       "      <td>True</td>\n",
       "    </tr>\n",
       "    <tr>\n",
       "      <th>5</th>\n",
       "      <td>Naruto</td>\n",
       "      <td>Masashi Kishimoto</td>\n",
       "      <td>Shueisha</td>\n",
       "      <td>Shōnen</td>\n",
       "      <td>72</td>\n",
       "      <td>1999–2014</td>\n",
       "      <td>250.0</td>\n",
       "      <td>3.47</td>\n",
       "      <td>Finalized</td>\n",
       "      <td>False</td>\n",
       "      <td>False</td>\n",
       "      <td>True</td>\n",
       "    </tr>\n",
       "    <tr>\n",
       "      <th>6</th>\n",
       "      <td>Slam Dunk</td>\n",
       "      <td>Takehiko Inoue</td>\n",
       "      <td>Shueisha</td>\n",
       "      <td>Shōnen</td>\n",
       "      <td>31</td>\n",
       "      <td>1990–1996</td>\n",
       "      <td>170.0</td>\n",
       "      <td>5.48</td>\n",
       "      <td>Finalized</td>\n",
       "      <td>False</td>\n",
       "      <td>False</td>\n",
       "      <td>True</td>\n",
       "    </tr>\n",
       "    <tr>\n",
       "      <th>7</th>\n",
       "      <td>KochiKame: Tokyo Beat Cops</td>\n",
       "      <td>Osamu Akimoto</td>\n",
       "      <td>Shueisha</td>\n",
       "      <td>Shōnen</td>\n",
       "      <td>201</td>\n",
       "      <td>1976–2016</td>\n",
       "      <td>156.5</td>\n",
       "      <td>0.78</td>\n",
       "      <td>Finalized</td>\n",
       "      <td>False</td>\n",
       "      <td>False</td>\n",
       "      <td>True</td>\n",
       "    </tr>\n",
       "    <tr>\n",
       "      <th>8</th>\n",
       "      <td>Demon Slayer: Kimetsu no Yaiba</td>\n",
       "      <td>Koyoharu Gotouge</td>\n",
       "      <td>Shueisha</td>\n",
       "      <td>Shōnen</td>\n",
       "      <td>23</td>\n",
       "      <td>2016–2020</td>\n",
       "      <td>150.0</td>\n",
       "      <td>6.52</td>\n",
       "      <td>Finalized</td>\n",
       "      <td>False</td>\n",
       "      <td>False</td>\n",
       "      <td>True</td>\n",
       "    </tr>\n",
       "    <tr>\n",
       "      <th>9</th>\n",
       "      <td>Oishinbo</td>\n",
       "      <td>Tetsu Kariya, Akira Hanasaki</td>\n",
       "      <td>Shogakukan</td>\n",
       "      <td>Seinen</td>\n",
       "      <td>111</td>\n",
       "      <td>1983–2014 (on hiatus)</td>\n",
       "      <td>135.0</td>\n",
       "      <td>1.22</td>\n",
       "      <td>On Hiatus</td>\n",
       "      <td>False</td>\n",
       "      <td>True</td>\n",
       "      <td>False</td>\n",
       "    </tr>\n",
       "  </tbody>\n",
       "</table>\n",
       "</div>"
      ],
      "text/plain": [
       "                     Manga series                      Author(s)   Publisher  \\\n",
       "0                       One Piece                   Eiichiro Oda    Shueisha   \n",
       "1                        Golgo 13  Takao Saito, Saito Production  Shogakukan   \n",
       "2   Case Closed / Detective Conan                   Gosho Aoyama  Shogakukan   \n",
       "3                     Dragon Ball                 Akira Toriyama    Shueisha   \n",
       "4                        Doraemon                Fujiko F. Fujio  Shogakukan   \n",
       "5                          Naruto              Masashi Kishimoto    Shueisha   \n",
       "6                       Slam Dunk                 Takehiko Inoue    Shueisha   \n",
       "7      KochiKame: Tokyo Beat Cops                  Osamu Akimoto    Shueisha   \n",
       "8  Demon Slayer: Kimetsu no Yaiba               Koyoharu Gotouge    Shueisha   \n",
       "9                        Oishinbo   Tetsu Kariya, Akira Hanasaki  Shogakukan   \n",
       "\n",
       "  Demographic  No. of collected volumes             Serialized  \\\n",
       "0      Shōnen                       104           1997–present   \n",
       "1      Seinen                       207           1968–present   \n",
       "2      Shōnen                       102           1994–present   \n",
       "3      Shōnen                        42              1984–1995   \n",
       "4    Children                        45              1969–1996   \n",
       "5      Shōnen                        72              1999–2014   \n",
       "6      Shōnen                        31              1990–1996   \n",
       "7      Shōnen                       201              1976–2016   \n",
       "8      Shōnen                        23              2016–2020   \n",
       "9      Seinen                       111  1983–2014 (on hiatus)   \n",
       "\n",
       "   Approximate sales in million(s)  Average sales per volume in million(s)  \\\n",
       "0                            516.6                                    4.97   \n",
       "1                            300.0                                    1.45   \n",
       "2                            270.0                                    2.65   \n",
       "3                            260.0                                    6.19   \n",
       "4                            250.0                                    4.71   \n",
       "5                            250.0                                    3.47   \n",
       "6                            170.0                                    5.48   \n",
       "7                            156.5                                    0.78   \n",
       "8                            150.0                                    6.52   \n",
       "9                            135.0                                    1.22   \n",
       "\n",
       "      Status  Ongoing  OnHiatus  Finalized  \n",
       "0    Ongoing     True     False      False  \n",
       "1    Ongoing     True     False      False  \n",
       "2    Ongoing     True     False      False  \n",
       "3  Finalized    False     False       True  \n",
       "4  Finalized    False     False       True  \n",
       "5  Finalized    False     False       True  \n",
       "6  Finalized    False     False       True  \n",
       "7  Finalized    False     False       True  \n",
       "8  Finalized    False     False       True  \n",
       "9  On Hiatus    False      True      False  "
      ]
     },
     "execution_count": 9,
     "metadata": {},
     "output_type": "execute_result"
    }
   ],
   "source": [
    "df.head(10)"
   ]
  },
  {
   "cell_type": "code",
   "execution_count": 10,
   "metadata": {},
   "outputs": [],
   "source": [
    "dontmove = [col for col in df.columns if col != 'Approximate sales in million(s)']\n",
    "\n",
    "df = df[dontmove + ['Approximate sales in million(s)']]"
   ]
  },
  {
   "cell_type": "code",
   "execution_count": 11,
   "metadata": {},
   "outputs": [
    {
     "data": {
      "text/html": [
       "<div>\n",
       "<style scoped>\n",
       "    .dataframe tbody tr th:only-of-type {\n",
       "        vertical-align: middle;\n",
       "    }\n",
       "\n",
       "    .dataframe tbody tr th {\n",
       "        vertical-align: top;\n",
       "    }\n",
       "\n",
       "    .dataframe thead th {\n",
       "        text-align: right;\n",
       "    }\n",
       "</style>\n",
       "<table border=\"1\" class=\"dataframe\">\n",
       "  <thead>\n",
       "    <tr style=\"text-align: right;\">\n",
       "      <th></th>\n",
       "      <th>Manga series</th>\n",
       "      <th>Author(s)</th>\n",
       "      <th>Publisher</th>\n",
       "      <th>Demographic</th>\n",
       "      <th>No. of collected volumes</th>\n",
       "      <th>Serialized</th>\n",
       "      <th>Average sales per volume in million(s)</th>\n",
       "      <th>Status</th>\n",
       "      <th>Ongoing</th>\n",
       "      <th>OnHiatus</th>\n",
       "      <th>Finalized</th>\n",
       "      <th>Approximate sales in million(s)</th>\n",
       "    </tr>\n",
       "  </thead>\n",
       "  <tbody>\n",
       "    <tr>\n",
       "      <th>0</th>\n",
       "      <td>One Piece</td>\n",
       "      <td>Eiichiro Oda</td>\n",
       "      <td>Shueisha</td>\n",
       "      <td>Shōnen</td>\n",
       "      <td>104</td>\n",
       "      <td>1997–present</td>\n",
       "      <td>4.97</td>\n",
       "      <td>Ongoing</td>\n",
       "      <td>True</td>\n",
       "      <td>False</td>\n",
       "      <td>False</td>\n",
       "      <td>516.6</td>\n",
       "    </tr>\n",
       "    <tr>\n",
       "      <th>1</th>\n",
       "      <td>Golgo 13</td>\n",
       "      <td>Takao Saito, Saito Production</td>\n",
       "      <td>Shogakukan</td>\n",
       "      <td>Seinen</td>\n",
       "      <td>207</td>\n",
       "      <td>1968–present</td>\n",
       "      <td>1.45</td>\n",
       "      <td>Ongoing</td>\n",
       "      <td>True</td>\n",
       "      <td>False</td>\n",
       "      <td>False</td>\n",
       "      <td>300.0</td>\n",
       "    </tr>\n",
       "    <tr>\n",
       "      <th>2</th>\n",
       "      <td>Case Closed / Detective Conan</td>\n",
       "      <td>Gosho Aoyama</td>\n",
       "      <td>Shogakukan</td>\n",
       "      <td>Shōnen</td>\n",
       "      <td>102</td>\n",
       "      <td>1994–present</td>\n",
       "      <td>2.65</td>\n",
       "      <td>Ongoing</td>\n",
       "      <td>True</td>\n",
       "      <td>False</td>\n",
       "      <td>False</td>\n",
       "      <td>270.0</td>\n",
       "    </tr>\n",
       "    <tr>\n",
       "      <th>3</th>\n",
       "      <td>Dragon Ball</td>\n",
       "      <td>Akira Toriyama</td>\n",
       "      <td>Shueisha</td>\n",
       "      <td>Shōnen</td>\n",
       "      <td>42</td>\n",
       "      <td>1984–1995</td>\n",
       "      <td>6.19</td>\n",
       "      <td>Finalized</td>\n",
       "      <td>False</td>\n",
       "      <td>False</td>\n",
       "      <td>True</td>\n",
       "      <td>260.0</td>\n",
       "    </tr>\n",
       "    <tr>\n",
       "      <th>4</th>\n",
       "      <td>Doraemon</td>\n",
       "      <td>Fujiko F. Fujio</td>\n",
       "      <td>Shogakukan</td>\n",
       "      <td>Children</td>\n",
       "      <td>45</td>\n",
       "      <td>1969–1996</td>\n",
       "      <td>4.71</td>\n",
       "      <td>Finalized</td>\n",
       "      <td>False</td>\n",
       "      <td>False</td>\n",
       "      <td>True</td>\n",
       "      <td>250.0</td>\n",
       "    </tr>\n",
       "    <tr>\n",
       "      <th>5</th>\n",
       "      <td>Naruto</td>\n",
       "      <td>Masashi Kishimoto</td>\n",
       "      <td>Shueisha</td>\n",
       "      <td>Shōnen</td>\n",
       "      <td>72</td>\n",
       "      <td>1999–2014</td>\n",
       "      <td>3.47</td>\n",
       "      <td>Finalized</td>\n",
       "      <td>False</td>\n",
       "      <td>False</td>\n",
       "      <td>True</td>\n",
       "      <td>250.0</td>\n",
       "    </tr>\n",
       "    <tr>\n",
       "      <th>6</th>\n",
       "      <td>Slam Dunk</td>\n",
       "      <td>Takehiko Inoue</td>\n",
       "      <td>Shueisha</td>\n",
       "      <td>Shōnen</td>\n",
       "      <td>31</td>\n",
       "      <td>1990–1996</td>\n",
       "      <td>5.48</td>\n",
       "      <td>Finalized</td>\n",
       "      <td>False</td>\n",
       "      <td>False</td>\n",
       "      <td>True</td>\n",
       "      <td>170.0</td>\n",
       "    </tr>\n",
       "    <tr>\n",
       "      <th>7</th>\n",
       "      <td>KochiKame: Tokyo Beat Cops</td>\n",
       "      <td>Osamu Akimoto</td>\n",
       "      <td>Shueisha</td>\n",
       "      <td>Shōnen</td>\n",
       "      <td>201</td>\n",
       "      <td>1976–2016</td>\n",
       "      <td>0.78</td>\n",
       "      <td>Finalized</td>\n",
       "      <td>False</td>\n",
       "      <td>False</td>\n",
       "      <td>True</td>\n",
       "      <td>156.5</td>\n",
       "    </tr>\n",
       "    <tr>\n",
       "      <th>8</th>\n",
       "      <td>Demon Slayer: Kimetsu no Yaiba</td>\n",
       "      <td>Koyoharu Gotouge</td>\n",
       "      <td>Shueisha</td>\n",
       "      <td>Shōnen</td>\n",
       "      <td>23</td>\n",
       "      <td>2016–2020</td>\n",
       "      <td>6.52</td>\n",
       "      <td>Finalized</td>\n",
       "      <td>False</td>\n",
       "      <td>False</td>\n",
       "      <td>True</td>\n",
       "      <td>150.0</td>\n",
       "    </tr>\n",
       "    <tr>\n",
       "      <th>9</th>\n",
       "      <td>Oishinbo</td>\n",
       "      <td>Tetsu Kariya, Akira Hanasaki</td>\n",
       "      <td>Shogakukan</td>\n",
       "      <td>Seinen</td>\n",
       "      <td>111</td>\n",
       "      <td>1983–2014 (on hiatus)</td>\n",
       "      <td>1.22</td>\n",
       "      <td>On Hiatus</td>\n",
       "      <td>False</td>\n",
       "      <td>True</td>\n",
       "      <td>False</td>\n",
       "      <td>135.0</td>\n",
       "    </tr>\n",
       "  </tbody>\n",
       "</table>\n",
       "</div>"
      ],
      "text/plain": [
       "                     Manga series                      Author(s)   Publisher  \\\n",
       "0                       One Piece                   Eiichiro Oda    Shueisha   \n",
       "1                        Golgo 13  Takao Saito, Saito Production  Shogakukan   \n",
       "2   Case Closed / Detective Conan                   Gosho Aoyama  Shogakukan   \n",
       "3                     Dragon Ball                 Akira Toriyama    Shueisha   \n",
       "4                        Doraemon                Fujiko F. Fujio  Shogakukan   \n",
       "5                          Naruto              Masashi Kishimoto    Shueisha   \n",
       "6                       Slam Dunk                 Takehiko Inoue    Shueisha   \n",
       "7      KochiKame: Tokyo Beat Cops                  Osamu Akimoto    Shueisha   \n",
       "8  Demon Slayer: Kimetsu no Yaiba               Koyoharu Gotouge    Shueisha   \n",
       "9                        Oishinbo   Tetsu Kariya, Akira Hanasaki  Shogakukan   \n",
       "\n",
       "  Demographic  No. of collected volumes             Serialized  \\\n",
       "0      Shōnen                       104           1997–present   \n",
       "1      Seinen                       207           1968–present   \n",
       "2      Shōnen                       102           1994–present   \n",
       "3      Shōnen                        42              1984–1995   \n",
       "4    Children                        45              1969–1996   \n",
       "5      Shōnen                        72              1999–2014   \n",
       "6      Shōnen                        31              1990–1996   \n",
       "7      Shōnen                       201              1976–2016   \n",
       "8      Shōnen                        23              2016–2020   \n",
       "9      Seinen                       111  1983–2014 (on hiatus)   \n",
       "\n",
       "   Average sales per volume in million(s)     Status  Ongoing  OnHiatus  \\\n",
       "0                                    4.97    Ongoing     True     False   \n",
       "1                                    1.45    Ongoing     True     False   \n",
       "2                                    2.65    Ongoing     True     False   \n",
       "3                                    6.19  Finalized    False     False   \n",
       "4                                    4.71  Finalized    False     False   \n",
       "5                                    3.47  Finalized    False     False   \n",
       "6                                    5.48  Finalized    False     False   \n",
       "7                                    0.78  Finalized    False     False   \n",
       "8                                    6.52  Finalized    False     False   \n",
       "9                                    1.22  On Hiatus    False      True   \n",
       "\n",
       "   Finalized  Approximate sales in million(s)  \n",
       "0      False                            516.6  \n",
       "1      False                            300.0  \n",
       "2      False                            270.0  \n",
       "3       True                            260.0  \n",
       "4       True                            250.0  \n",
       "5       True                            250.0  \n",
       "6       True                            170.0  \n",
       "7       True                            156.5  \n",
       "8       True                            150.0  \n",
       "9      False                            135.0  "
      ]
     },
     "execution_count": 11,
     "metadata": {},
     "output_type": "execute_result"
    }
   ],
   "source": [
    "df.head(10)"
   ]
  },
  {
   "cell_type": "code",
   "execution_count": 12,
   "metadata": {},
   "outputs": [],
   "source": [
    "#Demographic knowledge:\n",
    "#Shonen: Manga targeted at tween and teen boys\n",
    "#Shojo: Manga targeted at tween and teen girls\n",
    "#Seinen: Manga targeted at adult men (18+)\n",
    "#Josei: Manga targeted at adult women (18+)\n",
    "#Children: MaNGA target at children"
   ]
  },
  {
   "cell_type": "code",
   "execution_count": 13,
   "metadata": {},
   "outputs": [
    {
     "data": {
      "text/plain": [
       "<matplotlib.axes._subplots.AxesSubplot at 0x7fe2a02b1588>"
      ]
     },
     "execution_count": 13,
     "metadata": {},
     "output_type": "execute_result"
    },
    {
     "data": {
      "image/png": "[encoded data removed]",
      "text/plain": [
       "<Figure size 432x288 with 1 Axes>"
      ]
     },
     "metadata": {
      "needs_background": "light"
     },
     "output_type": "display_data"
    }
   ],
   "source": [
    "df['Demographic'].value_counts().plot(kind='bar')"
   ]
  },
  {
   "cell_type": "code",
   "execution_count": 14,
   "metadata": {},
   "outputs": [],
   "source": [
    "#Shounen is the most popular demographic amoung the manga-best-sellers."
   ]
  },
  {
   "cell_type": "code",
   "execution_count": 15,
   "metadata": {},
   "outputs": [],
   "source": [
    "#There is a combinmation in genres sometimes, lets get rid of that into a new category"
   ]
  },
  {
   "cell_type": "code",
   "execution_count": 16,
   "metadata": {},
   "outputs": [
    {
     "name": "stdout",
     "output_type": "stream",
     "text": [
      "['Shōnen' 'Seinen' 'Children' 'Shōnen/Seinen' '—' 'Shōjo' 'Josei'\n",
      " 'Shōjo/Josei' 'Shōnen/shōjo/Josei']\n"
     ]
    }
   ],
   "source": [
    "print(df[\"Demographic\"].unique())"
   ]
  },
  {
   "cell_type": "code",
   "execution_count": 17,
   "metadata": {},
   "outputs": [],
   "source": [
    "df[\"Demographic\"]=df[\"Demographic\"].replace(\"Shōnen/shōjo/Josei\" , \"Multi\")\n",
    "df[\"Demographic\"]=df[\"Demographic\"].replace(\"Shōjo/Josei\" , \"Multi\")\n",
    "df[\"Demographic\"]=df[\"Demographic\"].replace(\"—\" , \"Multi\")\n",
    "df[\"Demographic\"]=df[\"Demographic\"].replace(\"Shōnen/Seinen\" , \"Multi\")"
   ]
  },
  {
   "cell_type": "code",
   "execution_count": 18,
   "metadata": {},
   "outputs": [
    {
     "data": {
      "text/plain": [
       "Shōnen      101\n",
       "Seinen       50\n",
       "Shōjo        21\n",
       "Multi         9\n",
       "Children      4\n",
       "Josei         2\n",
       "Name: Demographic, dtype: int64"
      ]
     },
     "execution_count": 18,
     "metadata": {},
     "output_type": "execute_result"
    }
   ],
   "source": [
    "df[\"Demographic\"].value_counts()"
   ]
  },
  {
   "cell_type": "code",
   "execution_count": 19,
   "metadata": {},
   "outputs": [
    {
     "data": {
      "text/plain": [
       "<matplotlib.axes._subplots.AxesSubplot at 0x7fe2a02d9c88>"
      ]
     },
     "execution_count": 19,
     "metadata": {},
     "output_type": "execute_result"
    },
    {
     "data": {
      "image/png": "[encoded data removed]",
      "text/plain": [
       "<Figure size 432x288 with 1 Axes>"
      ]
     },
     "metadata": {
      "needs_background": "light"
     },
     "output_type": "display_data"
    }
   ],
   "source": [
    "df['Demographic'].value_counts().plot(kind='bar')"
   ]
  },
  {
   "cell_type": "code",
   "execution_count": 20,
   "metadata": {},
   "outputs": [
    {
     "data": {
      "text/plain": [
       "Rumiko Takahashi                                                  4\n",
       "Osamu Tezuka                                                      3\n",
       "Mitsuru Adachi                                                    3\n",
       "Naoki Urasawa                                                     3\n",
       "Tsukasa Hojo                                                      3\n",
       "Yoshihiro Togashi                                                 2\n",
       "Shuichi Shigeno                                                   2\n",
       "Takehiko Inoue                                                    2\n",
       "Hiro Mashima                                                      2\n",
       "Ken Akamatsu                                                      2\n",
       "Clamp                                                             2\n",
       "Akira Toriyama                                                    2\n",
       "Masanori Morita                                                   2\n",
       "Tooru Fujisawa                                                    2\n",
       "Shinji Mizushima                                                  2\n",
       "Kenshi Hirokane                                                   2\n",
       "Hiroshi Takahashi                                                 2\n",
       "Kyoko Ariyoshi                                                    1\n",
       "Osamu Akimoto                                                     1\n",
       "Natsuki Takaya                                                    1\n",
       "Ken Wakui                                                         1\n",
       "Yudetamago                                                        1\n",
       "Yasuko Uchiyama, Tokuo Yokota, Terumi Fujiki, Yoshitari Iizuka    1\n",
       "Hiroyuki Takei                                                    1\n",
       "George Morikawa                                                   1\n",
       "Waki Yamato                                                       1\n",
       "Buronson, Tetsuo Hara                                             1\n",
       "Yuzo Takada                                                       1\n",
       "Yū Sasuga, Kenichi Tachibana                                      1\n",
       "Jin Tojo                                                          1\n",
       "                                                                 ..\n",
       "Masatoshi Kawahara                                                1\n",
       "Buichi Terasawa                                                   1\n",
       "Kaiji Kawaguchi                                                   1\n",
       "Koi Ikeno                                                         1\n",
       "Hideaki Sorachi                                                   1\n",
       "Yasuhisa Hara                                                     1\n",
       "Go Nagai                                                          1\n",
       "Atsushi Ohkubo                                                    1\n",
       "Takeshi Konomi                                                    1\n",
       "Hirohiko Araki                                                    1\n",
       "Yuu Watase                                                        1\n",
       "Masami Kurumada                                                   1\n",
       "Shinji Wada                                                       1\n",
       "Machiko Hasegawa                                                  1\n",
       "Koyoharu Gotouge                                                  1\n",
       "Suzue Miuchi                                                      1\n",
       "Yana Toboso                                                       1\n",
       "Kaiu Shirai, Posuka Demizu                                        1\n",
       "Hiromi Morishita                                                  1\n",
       "Fuse, Taiki Kawakami                                              1\n",
       "Kōta Kodama, Arakawa Shoji                                        1\n",
       "Shinobu Ohtaka                                                    1\n",
       "Hiroshi Motomiya                                                  1\n",
       "Katsu Aki                                                         1\n",
       "Karuho Shiina                                                     1\n",
       "Muneyuki Kaneshiro, Yusuke Nomura                                 1\n",
       "Mitsutoshi Shimabukuro                                            1\n",
       "Makoto Mizuno, Gaku Tsugano, Puyo, Eretto                         1\n",
       "Kōsuke Fujishima                                                  1\n",
       "Hinata Takeshi                                                    1\n",
       "Name: Author(s), Length: 164, dtype: int64"
      ]
     },
     "execution_count": 20,
     "metadata": {},
     "output_type": "execute_result"
    }
   ],
   "source": [
    "df[\"Author(s)\"].value_counts()"
   ]
  },
  {
   "cell_type": "code",
   "execution_count": 21,
   "metadata": {},
   "outputs": [],
   "source": [
    "#there does not seem to be a lot authors that repeat in the best-selling-manga data."
   ]
  },
  {
   "cell_type": "code",
   "execution_count": 22,
   "metadata": {},
   "outputs": [
    {
     "data": {
      "text/plain": [
       "<matplotlib.axes._subplots.AxesSubplot at 0x7fe29e188748>"
      ]
     },
     "execution_count": 22,
     "metadata": {},
     "output_type": "execute_result"
    },
    {
     "data": {
      "image/png": "[encoded data removed]",
      "text/plain": [
       "<Figure size 432x288 with 1 Axes>"
      ]
     },
     "metadata": {
      "needs_background": "light"
     },
     "output_type": "display_data"
    }
   ],
   "source": [
    "df[\"Publisher\"].value_counts().plot(kind='bar')"
   ]
  },
  {
   "cell_type": "code",
   "execution_count": 23,
   "metadata": {},
   "outputs": [
    {
     "data": {
      "text/plain": [
       "Shueisha                                     65\n",
       "Kodansha                                     50\n",
       "Shogakukan                                   32\n",
       "Akita Shoten                                 11\n",
       "Hakusensha                                    7\n",
       "Nihon Bungeisha                               3\n",
       "Kadokawa Shoten                               2\n",
       "Square Enix                                   2\n",
       "Futabasha                                     2\n",
       "Shōnen Gahōsha                                2\n",
       "Square Enix, Ichijinsha                       1\n",
       "Kobunsha                                      1\n",
       "Gakken                                        1\n",
       "Ushio Shuppan                                 1\n",
       "Ushio Shuppansha                              1\n",
       "Shinchosha, Tokuma Shoten                     1\n",
       "Enix (2001–2003), Square Enix (2003–2010)     1\n",
       "Jitsugyo no Nihon Sha                         1\n",
       "Shueisha/Shogakukan/Leed                      1\n",
       "Enix                                          1\n",
       "Shueisha/Kodansha                             1\n",
       "Name: Publisher, dtype: int64"
      ]
     },
     "execution_count": 23,
     "metadata": {},
     "output_type": "execute_result"
    }
   ],
   "source": [
    "df[\"Publisher\"].value_counts()"
   ]
  },
  {
   "cell_type": "code",
   "execution_count": 24,
   "metadata": {},
   "outputs": [],
   "source": [
    "#Shueisha clearly is the most frequest publisher for the best-selling-manga."
   ]
  },
  {
   "cell_type": "code",
   "execution_count": 25,
   "metadata": {},
   "outputs": [
    {
     "data": {
      "text/plain": [
       "Shueisha                     65\n",
       "Kodansha                     50\n",
       "Shogakukan                   32\n",
       "Akita Shoten                 11\n",
       "Hakusensha                    7\n",
       "Square Enix                   4\n",
       "Nihon Bungeisha               3\n",
       "Kadokawa Shoten               2\n",
       "Shōnen Gahōsha                2\n",
       "Futabasha                     2\n",
       "Shinchosha, Tokuma Shoten     1\n",
       "Shueisha/Kodansha             1\n",
       "Ushio Shuppansha              1\n",
       "Ushio Shuppan                 1\n",
       "Kobunsha                      1\n",
       "Square Enix, Ichijinsha       1\n",
       "Gakken                        1\n",
       "Jitsugyo no Nihon Sha         1\n",
       "Shueisha/Shogakukan/Leed      1\n",
       "Name: Publisher, dtype: int64"
      ]
     },
     "execution_count": 25,
     "metadata": {},
     "output_type": "execute_result"
    }
   ],
   "source": [
    "df[\"Publisher\"] = df[\"Publisher\"].replace([\"Enix (2001–2003), Square Enix (2003–2010)\", \"Enix\", \"Square Enix\"], \"Square Enix\")\n",
    "#combine them to make graphs better\n",
    "df[\"Publisher\"].value_counts()"
   ]
  },
  {
   "cell_type": "code",
   "execution_count": 26,
   "metadata": {},
   "outputs": [
    {
     "data": {
      "text/plain": [
       "<matplotlib.axes._subplots.AxesSubplot at 0x7fe29e0d3cf8>"
      ]
     },
     "execution_count": 26,
     "metadata": {},
     "output_type": "execute_result"
    },
    {
     "data": {
      "image/png": "[encoded data removed]",
      "text/plain": [
       "<Figure size 432x288 with 1 Axes>"
      ]
     },
     "metadata": {
      "needs_background": "light"
     },
     "output_type": "display_data"
    }
   ],
   "source": [
    "df[\"Publisher\"].value_counts().plot(kind='bar')"
   ]
  },
  {
   "cell_type": "code",
   "execution_count": 27,
   "metadata": {},
   "outputs": [
    {
     "data": {
      "image/png": "[encoded data removed]",
      "text/plain": [
       "<Figure size 864x576 with 2 Axes>"
      ]
     },
     "metadata": {
      "needs_background": "light"
     },
     "output_type": "display_data"
    }
   ],
   "source": [
    "tft = ['Ongoing', 'OnHiatus', 'Finalized', 'No. of collected volumes', 'Approximate sales in million(s)']\n",
    "df2 = df[tft]\n",
    "heatmap = df2.corr()\n",
    "\n",
    "plt.figure(figsize=(12, 8))\n",
    "sea.heatmap(heatmap, annot=True, cmap='coolwarm', fmt=\".2f\", linewidths=.5)\n",
    "plt.title(f'Correlation Plot of Approximate sales in million(s) and Other Variables')\n",
    "plt.show()"
   ]
  },
  {
   "cell_type": "code",
   "execution_count": null,
   "metadata": {},
   "outputs": [],
   "source": []
  },
  {
   "cell_type": "code",
   "execution_count": null,
   "metadata": {},
   "outputs": [],
   "source": []
  },
  {
   "cell_type": "code",
   "execution_count": 28,
   "metadata": {},
   "outputs": [],
   "source": [
    "#well, obviously there is a negative relaqtionship corelation between Ongoing and Finalized.\n",
    "#Aside from that no significant correlation between these variables.\n",
    "#No. of collected volumes and Approx. sales in millions are somewhat correlated.\n",
    "#Which makes sense, as that was one of my assumptions of the model, the more volumes the more sales a manga would have."
   ]
  },
  {
   "cell_type": "code",
   "execution_count": 29,
   "metadata": {},
   "outputs": [
    {
     "data": {
      "image/png": "[encoded data removed]",
      "text/plain": [
       "<Figure size 864x576 with 2 Axes>"
      ]
     },
     "metadata": {
      "needs_background": "light"
     },
     "output_type": "display_data"
    }
   ],
   "source": [
    "dfnewcategoricals = pd.get_dummies(df, columns=['Demographic'], drop_first=True)\n",
    "remix = ['Average sales per volume in million(s)','No. of collected volumes', 'Approximate sales in million(s)']\n",
    "df3 = df[remix]\n",
    "heatmap = df3.corr()\n",
    "\n",
    "plt.figure(figsize=(12, 8))\n",
    "sea.heatmap(heatmap, annot=True, cmap='coolwarm', fmt=\".2f\", linewidths=.5)\n",
    "plt.title(f'Correlation Plot of Approximate sales in million(s) and Other Variables')\n",
    "plt.show()"
   ]
  },
  {
   "cell_type": "code",
   "execution_count": null,
   "metadata": {},
   "outputs": [],
   "source": []
  },
  {
   "cell_type": "code",
   "execution_count": 30,
   "metadata": {},
   "outputs": [
    {
     "data": {
      "image/png": "[encoded data removed]",
      "text/plain": [
       "<Figure size 864x576 with 2 Axes>"
      ]
     },
     "metadata": {
      "needs_background": "light"
     },
     "output_type": "display_data"
    }
   ],
   "source": [
    "dfnewcategoricals = pd.get_dummies(df, columns=['Demographic', 'Publisher'], drop_first=True)\n",
    "dummies = ['Demographic_Seinen', 'Demographic_Shōjo', 'Demographic_Shōnen', 'Publisher_Shueisha', 'Publisher_Kodansha']\n",
    "#chose these becasue they are the biggest demographic and publishers by a good margin so they might  be more likely of a relationship since more data to pull that from.\n",
    "remix = ['Average sales per volume in million(s)', 'No. of collected volumes', 'Approximate sales in million(s)']\n",
    "#I wanted to be sure about my original assumption of No. of collected volumes and sales relationships, so maybe one of the genres could be related to that variable.\n",
    "df3 = pd.concat([df[remix], dfnewcategoricals[dummies]], axis=1)\n",
    "heatmap = df3.corr()\n",
    "\n",
    "plt.figure(figsize=(12, 8))\n",
    "sea.heatmap(heatmap, annot=True, cmap='coolwarm', fmt=\".2f\", linewidths=.5)\n",
    "plt.title(f'Correlation Plot of Approximate sales in million(s) and Dummy Variables')\n",
    "plt.show()"
   ]
  },
  {
   "cell_type": "code",
   "execution_count": 31,
   "metadata": {},
   "outputs": [],
   "source": [
    "#Publisher and Demographic does not seem to have a correlation with sales in millions."
   ]
  },
  {
   "cell_type": "code",
   "execution_count": 32,
   "metadata": {},
   "outputs": [
    {
     "data": {
      "text/html": [
       "<div>\n",
       "<style scoped>\n",
       "    .dataframe tbody tr th:only-of-type {\n",
       "        vertical-align: middle;\n",
       "    }\n",
       "\n",
       "    .dataframe tbody tr th {\n",
       "        vertical-align: top;\n",
       "    }\n",
       "\n",
       "    .dataframe thead th {\n",
       "        text-align: right;\n",
       "    }\n",
       "</style>\n",
       "<table border=\"1\" class=\"dataframe\">\n",
       "  <thead>\n",
       "    <tr style=\"text-align: right;\">\n",
       "      <th></th>\n",
       "      <th>Manga series</th>\n",
       "      <th>Author(s)</th>\n",
       "      <th>Publisher</th>\n",
       "      <th>Demographic</th>\n",
       "      <th>No. of collected volumes</th>\n",
       "      <th>Serialized</th>\n",
       "      <th>Average sales per volume in million(s)</th>\n",
       "      <th>Status</th>\n",
       "      <th>Ongoing</th>\n",
       "      <th>OnHiatus</th>\n",
       "      <th>Finalized</th>\n",
       "      <th>Approximate sales in million(s)</th>\n",
       "    </tr>\n",
       "  </thead>\n",
       "  <tbody>\n",
       "    <tr>\n",
       "      <th>0</th>\n",
       "      <td>One Piece</td>\n",
       "      <td>Eiichiro Oda</td>\n",
       "      <td>Shueisha</td>\n",
       "      <td>Shōnen</td>\n",
       "      <td>104</td>\n",
       "      <td>1997–present</td>\n",
       "      <td>4.97</td>\n",
       "      <td>Ongoing</td>\n",
       "      <td>True</td>\n",
       "      <td>False</td>\n",
       "      <td>False</td>\n",
       "      <td>516.6</td>\n",
       "    </tr>\n",
       "    <tr>\n",
       "      <th>1</th>\n",
       "      <td>Golgo 13</td>\n",
       "      <td>Takao Saito, Saito Production</td>\n",
       "      <td>Shogakukan</td>\n",
       "      <td>Seinen</td>\n",
       "      <td>207</td>\n",
       "      <td>1968–present</td>\n",
       "      <td>1.45</td>\n",
       "      <td>Ongoing</td>\n",
       "      <td>True</td>\n",
       "      <td>False</td>\n",
       "      <td>False</td>\n",
       "      <td>300.0</td>\n",
       "    </tr>\n",
       "    <tr>\n",
       "      <th>2</th>\n",
       "      <td>Case Closed / Detective Conan</td>\n",
       "      <td>Gosho Aoyama</td>\n",
       "      <td>Shogakukan</td>\n",
       "      <td>Shōnen</td>\n",
       "      <td>102</td>\n",
       "      <td>1994–present</td>\n",
       "      <td>2.65</td>\n",
       "      <td>Ongoing</td>\n",
       "      <td>True</td>\n",
       "      <td>False</td>\n",
       "      <td>False</td>\n",
       "      <td>270.0</td>\n",
       "    </tr>\n",
       "    <tr>\n",
       "      <th>3</th>\n",
       "      <td>Dragon Ball</td>\n",
       "      <td>Akira Toriyama</td>\n",
       "      <td>Shueisha</td>\n",
       "      <td>Shōnen</td>\n",
       "      <td>42</td>\n",
       "      <td>1984–1995</td>\n",
       "      <td>6.19</td>\n",
       "      <td>Finalized</td>\n",
       "      <td>False</td>\n",
       "      <td>False</td>\n",
       "      <td>True</td>\n",
       "      <td>260.0</td>\n",
       "    </tr>\n",
       "    <tr>\n",
       "      <th>4</th>\n",
       "      <td>Doraemon</td>\n",
       "      <td>Fujiko F. Fujio</td>\n",
       "      <td>Shogakukan</td>\n",
       "      <td>Children</td>\n",
       "      <td>45</td>\n",
       "      <td>1969–1996</td>\n",
       "      <td>4.71</td>\n",
       "      <td>Finalized</td>\n",
       "      <td>False</td>\n",
       "      <td>False</td>\n",
       "      <td>True</td>\n",
       "      <td>250.0</td>\n",
       "    </tr>\n",
       "  </tbody>\n",
       "</table>\n",
       "</div>"
      ],
      "text/plain": [
       "                    Manga series                      Author(s)   Publisher  \\\n",
       "0                      One Piece                   Eiichiro Oda    Shueisha   \n",
       "1                       Golgo 13  Takao Saito, Saito Production  Shogakukan   \n",
       "2  Case Closed / Detective Conan                   Gosho Aoyama  Shogakukan   \n",
       "3                    Dragon Ball                 Akira Toriyama    Shueisha   \n",
       "4                       Doraemon                Fujiko F. Fujio  Shogakukan   \n",
       "\n",
       "  Demographic  No. of collected volumes    Serialized  \\\n",
       "0      Shōnen                       104  1997–present   \n",
       "1      Seinen                       207  1968–present   \n",
       "2      Shōnen                       102  1994–present   \n",
       "3      Shōnen                        42     1984–1995   \n",
       "4    Children                        45     1969–1996   \n",
       "\n",
       "   Average sales per volume in million(s)     Status  Ongoing  OnHiatus  \\\n",
       "0                                    4.97    Ongoing     True     False   \n",
       "1                                    1.45    Ongoing     True     False   \n",
       "2                                    2.65    Ongoing     True     False   \n",
       "3                                    6.19  Finalized    False     False   \n",
       "4                                    4.71  Finalized    False     False   \n",
       "\n",
       "   Finalized  Approximate sales in million(s)  \n",
       "0      False                            516.6  \n",
       "1      False                            300.0  \n",
       "2      False                            270.0  \n",
       "3       True                            260.0  \n",
       "4       True                            250.0  "
      ]
     },
     "execution_count": 32,
     "metadata": {},
     "output_type": "execute_result"
    }
   ],
   "source": [
    "df.head(5)"
   ]
  },
  {
   "cell_type": "code",
   "execution_count": 33,
   "metadata": {},
   "outputs": [
    {
     "data": {
      "image/png": "[encoded data removed]",
      "text/plain": [
       "<Figure size 720x432 with 1 Axes>"
      ]
     },
     "metadata": {},
     "output_type": "display_data"
    }
   ],
   "source": [
    "sea.set(style=\"whitegrid\")\n",
    "plt.figure(figsize=(10, 6))\n",
    "\n",
    "ax = sea.scatterplot(data=df, x=\"No. of collected volumes\", y=\"Approximate sales in million(s)\", hue=\"Publisher\")\n",
    "ax.legend(loc='center left', bbox_to_anchor=(1, 0.5))\n",
    "\n",
    "\n",
    "plt.title(\"Scatter Plot of No. of collected volumes vs. Approximate Sales\")\n",
    "plt.xlabel(\"No. of collected volumes\")\n",
    "plt.ylabel(\"Approximate Sales in million(s)\")\n",
    "plt.show()"
   ]
  },
  {
   "cell_type": "code",
   "execution_count": 34,
   "metadata": {},
   "outputs": [],
   "source": [
    "#there isnt really a relationship or a trend line between no. of collected volumes and sales in millions"
   ]
  },
  {
   "cell_type": "code",
   "execution_count": 37,
   "metadata": {},
   "outputs": [
    {
     "name": "stdout",
     "output_type": "stream",
     "text": [
      "<class 'pandas.core.frame.DataFrame'>\n",
      "RangeIndex: 187 entries, 0 to 186\n",
      "Data columns (total 12 columns):\n",
      "Manga series                              187 non-null object\n",
      "Author(s)                                 187 non-null object\n",
      "Publisher                                 187 non-null object\n",
      "Demographic                               187 non-null object\n",
      "No. of collected volumes                  187 non-null int64\n",
      "Serialized                                187 non-null object\n",
      "Average sales per volume in million(s)    187 non-null float64\n",
      "Status                                    187 non-null category\n",
      "Ongoing                                   187 non-null bool\n",
      "OnHiatus                                  187 non-null bool\n",
      "Finalized                                 187 non-null bool\n",
      "Approximate sales in million(s)           187 non-null float64\n",
      "dtypes: bool(3), category(1), float64(2), int64(1), object(5)\n",
      "memory usage: 12.6+ KB\n"
     ]
    }
   ],
   "source": [
    "df.info()"
   ]
  },
  {
   "cell_type": "code",
   "execution_count": 38,
   "metadata": {},
   "outputs": [],
   "source": [
    "#Since Approximate sales in million(s) AND Average sales per volume in million(s) do not have a stronmg corrrelation it can still be used for the glm model."
   ]
  },
  {
   "cell_type": "code",
   "execution_count": 63,
   "metadata": {},
   "outputs": [
    {
     "name": "stdout",
     "output_type": "stream",
     "text": [
      "Mean Squared Error (MSE): 713.5822034712754\n",
      "R-squared (R2): 0.625425628943044\n"
     ]
    }
   ],
   "source": [
    "dfnewcategoricals = pd.get_dummies(df, columns=['Demographic'], drop_first=True)\n",
    "x = dfnewcategoricals.drop(['Manga series', 'Author(s)', 'Serialized', 'Publisher', 'Status', 'Finalized', 'Ongoing', 'OnHiatus', 'Approximate sales in million(s)'], axis=1)\n",
    "y = df['Approximate sales in million(s)']\n",
    "\n",
    "xtrain, xtest, ytrain, ytest = train_test_split(x, y, test_size=0.3, random_state=100)\n",
    "\n",
    "mod = LinearRegression()\n",
    "mod.fit(xtrain, ytrain)\n",
    "ypred = mod.predict(xtest)\n",
    "\n",
    "tft = mean_squared_error(ytest, ypred)\n",
    "kda = r2_score(ytest, ypred)\n",
    "\n",
    "print(f'Mean Squared Error (MSE): {tft}')\n",
    "print(f'R-squared (R2): {kda}')"
   ]
  },
  {
   "cell_type": "code",
   "execution_count": 58,
   "metadata": {},
   "outputs": [
    {
     "name": "stdout",
     "output_type": "stream",
     "text": [
      "No. of collected volumes                    int64\n",
      "Average sales per volume in million(s)    float64\n",
      "Demographic_Josei                           uint8\n",
      "Demographic_Multi                           uint8\n",
      "Demographic_Seinen                          uint8\n",
      "Demographic_Shōjo                           uint8\n",
      "Demographic_Shōnen                          uint8\n",
      "dtype: object\n",
      "float64\n"
     ]
    }
   ],
   "source": [
    "print(xtrain.dtypes)\n",
    "print(ytrain.dtypes)"
   ]
  },
  {
   "cell_type": "code",
   "execution_count": 43,
   "metadata": {},
   "outputs": [
    {
     "data": {
      "text/html": [
       "<div>\n",
       "<style scoped>\n",
       "    .dataframe tbody tr th:only-of-type {\n",
       "        vertical-align: middle;\n",
       "    }\n",
       "\n",
       "    .dataframe tbody tr th {\n",
       "        vertical-align: top;\n",
       "    }\n",
       "\n",
       "    .dataframe thead th {\n",
       "        text-align: right;\n",
       "    }\n",
       "</style>\n",
       "<table border=\"1\" class=\"dataframe\">\n",
       "  <thead>\n",
       "    <tr style=\"text-align: right;\">\n",
       "      <th></th>\n",
       "      <th>Manga series</th>\n",
       "      <th>Author(s)</th>\n",
       "      <th>Publisher</th>\n",
       "      <th>Demographic</th>\n",
       "      <th>No. of collected volumes</th>\n",
       "      <th>Serialized</th>\n",
       "      <th>Average sales per volume in million(s)</th>\n",
       "      <th>Status</th>\n",
       "      <th>Ongoing</th>\n",
       "      <th>OnHiatus</th>\n",
       "      <th>Finalized</th>\n",
       "      <th>Approximate sales in million(s)</th>\n",
       "    </tr>\n",
       "  </thead>\n",
       "  <tbody>\n",
       "    <tr>\n",
       "      <th>0</th>\n",
       "      <td>One Piece</td>\n",
       "      <td>Eiichiro Oda</td>\n",
       "      <td>Shueisha</td>\n",
       "      <td>Shōnen</td>\n",
       "      <td>104</td>\n",
       "      <td>1997–present</td>\n",
       "      <td>4.97</td>\n",
       "      <td>Ongoing</td>\n",
       "      <td>True</td>\n",
       "      <td>False</td>\n",
       "      <td>False</td>\n",
       "      <td>516.6</td>\n",
       "    </tr>\n",
       "    <tr>\n",
       "      <th>1</th>\n",
       "      <td>Golgo 13</td>\n",
       "      <td>Takao Saito, Saito Production</td>\n",
       "      <td>Shogakukan</td>\n",
       "      <td>Seinen</td>\n",
       "      <td>207</td>\n",
       "      <td>1968–present</td>\n",
       "      <td>1.45</td>\n",
       "      <td>Ongoing</td>\n",
       "      <td>True</td>\n",
       "      <td>False</td>\n",
       "      <td>False</td>\n",
       "      <td>300.0</td>\n",
       "    </tr>\n",
       "    <tr>\n",
       "      <th>2</th>\n",
       "      <td>Case Closed / Detective Conan</td>\n",
       "      <td>Gosho Aoyama</td>\n",
       "      <td>Shogakukan</td>\n",
       "      <td>Shōnen</td>\n",
       "      <td>102</td>\n",
       "      <td>1994–present</td>\n",
       "      <td>2.65</td>\n",
       "      <td>Ongoing</td>\n",
       "      <td>True</td>\n",
       "      <td>False</td>\n",
       "      <td>False</td>\n",
       "      <td>270.0</td>\n",
       "    </tr>\n",
       "    <tr>\n",
       "      <th>3</th>\n",
       "      <td>Dragon Ball</td>\n",
       "      <td>Akira Toriyama</td>\n",
       "      <td>Shueisha</td>\n",
       "      <td>Shōnen</td>\n",
       "      <td>42</td>\n",
       "      <td>1984–1995</td>\n",
       "      <td>6.19</td>\n",
       "      <td>Finalized</td>\n",
       "      <td>False</td>\n",
       "      <td>False</td>\n",
       "      <td>True</td>\n",
       "      <td>260.0</td>\n",
       "    </tr>\n",
       "    <tr>\n",
       "      <th>4</th>\n",
       "      <td>Doraemon</td>\n",
       "      <td>Fujiko F. Fujio</td>\n",
       "      <td>Shogakukan</td>\n",
       "      <td>Children</td>\n",
       "      <td>45</td>\n",
       "      <td>1969–1996</td>\n",
       "      <td>4.71</td>\n",
       "      <td>Finalized</td>\n",
       "      <td>False</td>\n",
       "      <td>False</td>\n",
       "      <td>True</td>\n",
       "      <td>250.0</td>\n",
       "    </tr>\n",
       "  </tbody>\n",
       "</table>\n",
       "</div>"
      ],
      "text/plain": [
       "                    Manga series                      Author(s)   Publisher  \\\n",
       "0                      One Piece                   Eiichiro Oda    Shueisha   \n",
       "1                       Golgo 13  Takao Saito, Saito Production  Shogakukan   \n",
       "2  Case Closed / Detective Conan                   Gosho Aoyama  Shogakukan   \n",
       "3                    Dragon Ball                 Akira Toriyama    Shueisha   \n",
       "4                       Doraemon                Fujiko F. Fujio  Shogakukan   \n",
       "\n",
       "  Demographic  No. of collected volumes    Serialized  \\\n",
       "0      Shōnen                       104  1997–present   \n",
       "1      Seinen                       207  1968–present   \n",
       "2      Shōnen                       102  1994–present   \n",
       "3      Shōnen                        42     1984–1995   \n",
       "4    Children                        45     1969–1996   \n",
       "\n",
       "   Average sales per volume in million(s)     Status  Ongoing  OnHiatus  \\\n",
       "0                                    4.97    Ongoing     True     False   \n",
       "1                                    1.45    Ongoing     True     False   \n",
       "2                                    2.65    Ongoing     True     False   \n",
       "3                                    6.19  Finalized    False     False   \n",
       "4                                    4.71  Finalized    False     False   \n",
       "\n",
       "   Finalized  Approximate sales in million(s)  \n",
       "0      False                            516.6  \n",
       "1      False                            300.0  \n",
       "2      False                            270.0  \n",
       "3       True                            260.0  \n",
       "4       True                            250.0  "
      ]
     },
     "execution_count": 43,
     "metadata": {},
     "output_type": "execute_result"
    }
   ],
   "source": [
    "df.head(5)"
   ]
  },
  {
   "cell_type": "code",
   "execution_count": 64,
   "metadata": {},
   "outputs": [
    {
     "name": "stdout",
     "output_type": "stream",
     "text": [
      "Mean Squared Error: 881.754807511519\n",
      "R-squared: 0.7184847536413556\n"
     ]
    }
   ],
   "source": [
    "x = df.drop(['Manga series', 'Demographic', 'Author(s)', 'Serialized', 'Publisher', 'Status', 'Finalized', 'Ongoing', 'OnHiatus', 'Approximate sales in million(s)'], axis=1)\n",
    "y = df['Approximate sales in million(s)']\n",
    "\n",
    "xtrain, xtest, ytrain, ytest = train_test_split(x, y, test_size=0.3)\n",
    "\n",
    "m = LinearRegression()\n",
    "m.fit(xtrain, ytrain)\n",
    "ypred = m.predict(xtest)\n",
    "\n",
    "tft = mean_squared_error(ytest, ypred)\n",
    "kda = r2_score(ytest, ypred)\n",
    "\n",
    "print(f'Mean Squared Error: {tft}')\n",
    "print(f'R-squared: {kda}')"
   ]
  },
  {
   "cell_type": "code",
   "execution_count": 65,
   "metadata": {},
   "outputs": [],
   "source": [
    "#it seems Average sales per volume in million(s) and No. of collected volumes are the best feature variables for a linear model for approximate sales in milliuons, but even then they are not ideal. Since the R-squared is still just 61%-73%. There is a big random depending on the randomization.\n",
    "#when adding publisher, status and demographic it drops the prediction slightly to around 58%\n",
    "#Because of that it is best to run the model with the two current variables, this way we are certain we are not overfitting our model since the current variable and features are not significantly correlated nor a huge amount."
   ]
  },
  {
   "cell_type": "code",
   "execution_count": null,
   "metadata": {},
   "outputs": [],
   "source": [
    "#If I had to redo this project I would actually change my chosen dataset for something with more rows.\n",
    "#I attempted to do a Random Forest model to answer the question \"Can we predict what would be the best selling Publisher?\" since I am already very familiar with it from other data classes, however it does seem that it is much less intuitive on pyhton. So, ifd I had more time on this project or more assistance instead of opting from changing the dataset I would do a naive bayes model and a random forest model. "
   ]
  },
  {
   "cell_type": "code",
   "execution_count": null,
   "metadata": {},
   "outputs": [],
   "source": []
  },
  {
   "cell_type": "code",
   "execution_count": null,
   "metadata": {},
   "outputs": [],
   "source": []
  }
 ],
 "metadata": {
  "kernelspec": {
   "display_name": "Python 3",
   "language": "python",
   "name": "python3"
  },
  "language_info": {
   "codemirror_mode": {
    "name": "ipython",
    "version": 3
   },
   "file_extension": ".py",
   "mimetype": "text/x-python",
   "name": "python",
   "nbconvert_exporter": "python",
   "pygments_lexer": "ipython3",
   "version": "3.6.10"
  }
 },
 "nbformat": 4,
 "nbformat_minor": 2
}
